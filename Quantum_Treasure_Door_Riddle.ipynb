{
  "nbformat": 4,
  "nbformat_minor": 0,
  "metadata": {
    "colab": {
      "provenance": []
    },
    "kernelspec": {
      "name": "python3",
      "display_name": "Python 3"
    },
    "language_info": {
      "name": "python"
    }
  },
  "cells": [
    {
      "cell_type": "markdown",
      "source": [
        "# **Quantum Simulation of the Treasure Door Riddle**"
      ],
      "metadata": {
        "id": "fNOFa3DxGETl"
      }
    },
    {
      "cell_type": "markdown",
      "source": [
        "This notebook implements a quantum circuit that simulates the classic **Treasure Door** logic puzzle, where you must determine which door leads to treasure by asking one question to one of two guardians (one always lies, one always tells the truth).\n"
      ],
      "metadata": {
        "id": "Jv2Z_WxgXgh-"
      }
    },
    {
      "cell_type": "markdown",
      "source": [
        "## **The Riddle :**\n",
        " You encounter two doors with guardians. Behind one door is treasure, behind the other is nothing. One guardian always lies, the other always tells the truth. You don't know which is which. Both guardians know where the treasure is and which guardian lies.\n",
        "\n",
        " ## **Solution:**\n",
        " Ask either guardian: \"Which door would the other guardian tell me not to open?\" Then choose the opposite door."
      ],
      "metadata": {
        "id": "p-aLdd2mXgXP"
      }
    },
    {
      "cell_type": "markdown",
      "source": [
        "## Quantum Implementation\n",
        " We'll model this using 3 qubits:\n",
        " - q0: Represents the treasure location (0=left, 1=right)\n",
        " - q1: Represents the other guardian's knowledge (entangled with q0)\n",
        " - q2: Represents which guardian is lying (0=left guardian lies, 1=right guardian lies)"
      ],
      "metadata": {
        "id": "wSWd6R1RX8SJ"
      }
    },
    {
      "cell_type": "markdown",
      "source": [
        "# Installations"
      ],
      "metadata": {
        "id": "GrclVSbu_dj3"
      }
    },
    {
      "cell_type": "code",
      "execution_count": 62,
      "metadata": {
        "colab": {
          "base_uri": "https://localhost:8080/"
        },
        "id": "-nVRlJXP6yOF",
        "outputId": "1e099746-8be1-4201-ab95-88810e8d986b"
      },
      "outputs": [
        {
          "output_type": "stream",
          "name": "stdout",
          "text": [
            "Setup complete! Libraries installed and imported.\n"
          ]
        }
      ],
      "source": [
        "!pip install qiskit qiskit-aer matplotlib\n",
        "\n",
        "# Import the required libraries\n",
        "import numpy as np\n",
        "import matplotlib.pyplot as plt\n",
        "from IPython.display import display, clear_output\n",
        "\n",
        "try:\n",
        "    # Try newer import style first\n",
        "    from qiskit import QuantumCircuit, transpile\n",
        "    from qiskit_aer import Aer\n",
        "except ImportError:\n",
        "    # Fall back to older import style\n",
        "    from qiskit import QuantumCircuit, Aer, transpile\n",
        "\n",
        "# Wait for installation to complete\n",
        "import time\n",
        "time.sleep(2)\n",
        "clear_output()\n",
        "print(\"Setup complete! Libraries installed and imported.\")"
      ]
    },
    {
      "cell_type": "markdown",
      "source": [
        "### Step 1: Initialize the Quantum Circuit"
      ],
      "metadata": {
        "id": "Ufet4OCGYFXj"
      }
    },
    {
      "cell_type": "code",
      "source": [
        "# Create quantum circuit with 3 qubits and 2 classical bits for measurement\n",
        "qc = QuantumCircuit(3, 2)"
      ],
      "metadata": {
        "id": "67A9hXokYH6b"
      },
      "execution_count": 63,
      "outputs": []
    },
    {
      "cell_type": "markdown",
      "source": [
        "### Step 2: Setup Treasure Location and Guardian Knowledge\n",
        "\n",
        "- Apply Hadamard to q0 to put treasure location in superposition\n",
        "- Entangle q0 and q1 so both guardians know the treasure location"
      ],
      "metadata": {
        "id": "XSMiUWzpYMvT"
      }
    },
    {
      "cell_type": "code",
      "source": [
        "# Create superposition for treasure location\n",
        "qc.h(0)\n",
        "\n",
        "# Entangle q0 and q1 so both guardians know the location\n",
        "qc.cx(0, 1)"
      ],
      "metadata": {
        "colab": {
          "base_uri": "https://localhost:8080/"
        },
        "id": "qnm9KFBMYTyQ",
        "outputId": "c6f0ad89-3829-4c7d-944f-50771c6b1dd1"
      },
      "execution_count": 64,
      "outputs": [
        {
          "output_type": "execute_result",
          "data": {
            "text/plain": [
              "<qiskit.circuit.instructionset.InstructionSet at 0x7cedbf29a560>"
            ]
          },
          "metadata": {},
          "execution_count": 64
        }
      ]
    },
    {
      "cell_type": "markdown",
      "source": [
        "### Step 3: Determine Which Guardian is Lying\n",
        "- Apply Hadamard to q2 to put liar identification in superposition\n",
        "- Use CNOT gates to flip answers based on which guardian is lying"
      ],
      "metadata": {
        "id": "GqiLF-v9YYPE"
      }
    },
    {
      "cell_type": "code",
      "source": [
        "\n",
        "# Create superposition for which guardian is lying\n",
        "qc.h(2)\n",
        "\n",
        "# If q2=1 (right guardian lies), flip q0 (A's answer)\n",
        "qc.cx(2, 0)\n",
        "\n",
        "# Prepare for flipping q1 if left guardian lies\n",
        "qc.x(2)\n",
        "\n",
        "# If q2 is now 1 (originally 0, left guardian lies), flip q1 (B's answer)\n",
        "qc.cx(2, 1)\n",
        "\n",
        "# Restore q2 to original state\n",
        "qc.x(2)\n"
      ],
      "metadata": {
        "colab": {
          "base_uri": "https://localhost:8080/"
        },
        "id": "p223ZgHfYW9q",
        "outputId": "f8d7ac70-f0b8-4f48-d9fb-d6027b489a01"
      },
      "execution_count": 65,
      "outputs": [
        {
          "output_type": "execute_result",
          "data": {
            "text/plain": [
              "<qiskit.circuit.instructionset.InstructionSet at 0x7cedbf290ca0>"
            ]
          },
          "metadata": {},
          "execution_count": 65
        }
      ]
    },
    {
      "cell_type": "markdown",
      "source": [
        "### Step 4: Simulate Asking the Key Question\n",
        "\n",
        "\"Which door would the other guardian tell me not to open?\"\n",
        "\n",
        " This involves:\n",
        "- Swapping the guardians' perspectives (SWAP gate)\n",
        "- Considering the \"not to open\" aspect (X gates)\n",
        "- Accounting for the lying guardian's deception\n"
      ],
      "metadata": {
        "id": "tAAvMP3KYuG7"
      }
    },
    {
      "cell_type": "code",
      "source": [
        "\n",
        "# Swap the qubits to simulate asking about the other guardian\n",
        "qc.swap(0, 1)\n",
        "\n",
        "# Invert because we're asking what NOT to open\n",
        "qc.x(0)\n",
        "qc.x(1)\n",
        "\n",
        "# Apply lying logic again\n",
        "qc.cx(2, 0)    # Flip q0 if q2 is 1 (right guardian lies)\n",
        "qc.x(2)         # Invert q2\n",
        "qc.cx(2, 1)     # Flip q1 if q2 is 1 (left guardian lies)\n",
        "qc.x(2)         # Restore q2\n"
      ],
      "metadata": {
        "colab": {
          "base_uri": "https://localhost:8080/"
        },
        "id": "W17blo99YtGV",
        "outputId": "513f2a1c-c1f2-4293-d34a-91f33c07d7ab"
      },
      "execution_count": 66,
      "outputs": [
        {
          "output_type": "execute_result",
          "data": {
            "text/plain": [
              "<qiskit.circuit.instructionset.InstructionSet at 0x7cedbf292200>"
            ]
          },
          "metadata": {},
          "execution_count": 66
        }
      ]
    },
    {
      "cell_type": "markdown",
      "source": [
        "### Step 5: Measure the Results\n",
        " We'll measure q0 and q1 to see what answer we get from either guardian.\n"
      ],
      "metadata": {
        "id": "hJUEV-LnY3IB"
      }
    },
    {
      "cell_type": "code",
      "source": [
        "\n",
        "# Measure the results\n",
        "qc.measure(0, 0)  # Measure qubit 0 into classical bit 0\n",
        "qc.measure(1, 1)  # Measure qubit 1 into classical bit 1\n",
        "\n",
        "# Draw the circuit\n",
        "try:\n",
        "    display(qc.draw('mpl', fold=-1))  # fold=-1 prevents line wrapping\n",
        "except:\n",
        "    print(\"Matplotlib drawing failed, using text representation instead\")\n",
        "    display(qc.draw('text'))\n"
      ],
      "metadata": {
        "colab": {
          "base_uri": "https://localhost:8080/",
          "height": 320
        },
        "id": "HY5_TCRmY1oS",
        "outputId": "94aa86b3-fbe8-49a1-df9d-3887f4c83b2f"
      },
      "execution_count": 67,
      "outputs": [
        {
          "output_type": "display_data",
          "data": {
            "text/plain": [
              "<Figure size 1207.22x367.889 with 1 Axes>"
            ],
            "image/png": "[encoded data removed]"
          },
          "metadata": {}
        }
      ]
    },
    {
      "cell_type": "markdown",
      "source": [
        "### Step 6: Simulate the Circuit\n",
        " We'll run the simulation 1024 times to see the probability distribution."
      ],
      "metadata": {
        "id": "Rc3qAo_FZArM"
      }
    },
    {
      "cell_type": "code",
      "source": [
        "\n",
        "# Simulate the circuit\n",
        "backend = Aer.get_backend('qasm_simulator')\n",
        "t_qc = transpile(qc, backend)\n",
        "result = backend.run(t_qc, shots=1024).result()\n",
        "counts = result.get_counts()\n",
        "\n",
        "# Plot the results\n",
        "display(plot_histogram(counts, title='Measurement Results'))\n"
      ],
      "metadata": {
        "colab": {
          "base_uri": "https://localhost:8080/",
          "height": 487
        },
        "id": "zsln7103Y_dN",
        "outputId": "1235b0ac-7264-4542-c9c5-5286d24884cf"
      },
      "execution_count": 68,
      "outputs": [
        {
          "output_type": "display_data",
          "data": {
            "text/plain": [
              "<Figure size 640x480 with 1 Axes>"
            ],
            "image/png": "[encoded data removed]"
          },
          "metadata": {}
        }
      ]
    },
    {
      "cell_type": "markdown",
      "source": [
        " ## Interpretation of Results\n",
        "\n",
        " The measurement results show four possible outcomes:\n",
        "\n",
        "- **00**: Both guardians indicate the left door (choose right door)\n",
        "- **01**: Guardians disagree (shouldn't happen with correct question)\n",
        "- **10**: Guardians disagree (shouldn't happen with correct question)\n",
        "- **11**: Both guardians indicate the right door (choose left door)\n",
        "\n",
        "The correct solution appears as either 00 or 11, where both guardians give the same answer (though one is lying). You should choose the opposite door of what they indicate."
      ],
      "metadata": {
        "id": "Jkld2xjGZLjU"
      }
    },
    {
      "cell_type": "markdown",
      "source": [
        "## Conclusion\n",
        " This quantum circuit successfully models the Treasure Door riddle, demonstrating how quantum superposition and entanglement can represent all possible scenarios simultaneously. The measurement results confirm that asking either guardian \"Which door would the other guardian tell me not to open?\" will consistently point you to the correct door by choosing the opposite of their answer."
      ],
      "metadata": {
        "id": "dRJLXjOmZUnH"
      }
    },
    {
      "cell_type": "code",
      "source": [],
      "metadata": {
        "id": "1JRat0AXOdzU"
      },
      "execution_count": null,
      "outputs": []
    }
  ]
}